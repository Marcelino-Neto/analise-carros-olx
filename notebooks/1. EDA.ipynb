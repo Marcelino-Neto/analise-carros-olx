{
 "cells": [
  {
   "cell_type": "markdown",
   "metadata": {},
   "source": [
    "# **Previsão de preço de carros.**\n",
    "<!--\n",
    "<img src=\"https://miro.medium.com/v2/resize:fit:988/0*tA5OjppLK627FfFo\" alt=\"image\" width=\"250\" height=\"auto\">\n",
    "-->\n",
    "Nesse projeto eu vou construir um modelo de **Machine Learning** que faça a previsão  do preço de venda de um veículo.\n",
    "\n",
    "Irei utilizar a Metodologia **CRISP-DM** para me basear nos passos a serem seguinos no projeto.\n",
    "\n",
    "1. **Compreensão do Negócio (Business Understanding/Problem)** \n",
    "\n",
    "1. **Compreensão dos Dados (Data Understanding)** \n",
    "1. **Preparação dos Dados (Data Preparation)** \n",
    "1. **Modelagem (Modeling)** \n",
    "1. **Avaliação (Evaluation)**\n",
    "1. **Implantação (Deployment)** "
   ]
  },
  {
   "cell_type": "markdown",
   "metadata": {},
   "source": [
    "# **1. Problema de Negóscio**\n",
    "\n",
    "*   Uma pessoa precisa revender seu veículo porém ela **não sabe** qual valor deve cobrar no mesmo.\n",
    "*   1.1 Qual é o contexto?\n",
    "    *   ...\n",
    "*   1.2 Quais são os objetivos do projeto?\n",
    "    *   Identificar as características que influenciam os preços de venda dos veículos.\n",
    "    *   Criar um modelo capaz de prever o valor de venda de um novo veículo.\n",
    "    *   ...\n",
    "*   1.3 Quais são os benefícios?\n",
    "    *   Vender o veículo com o valor *ótimo* de acordo com **suas características**.\n",
    "    *   **Reduzir as perdas de dinheiro** na revenda do veículo.\n",
    "    *   **Enconomizar esforços de energia/tempo** em tentar adivinhar o valor ideal.\n",
    "\n",
    "Como resultado, o **problema de negócio** será resolvido."
   ]
  },
  {
   "cell_type": "markdown",
   "metadata": {},
   "source": [
    "### **Importando as bibliotecas necessárias.**"
   ]
  },
  {
   "cell_type": "code",
   "execution_count": 1,
   "metadata": {},
   "outputs": [],
   "source": [
    "import pandas as pd\n",
    "import numpy as np\n",
    "import os\n",
    "import glob\n",
    "import matplotlib.pyplot as plt\n",
    "# import matplotlib as mpl\n",
    "import seaborn as sns\n",
    "\n",
    "# Display options.\n",
    "# pd.set_option('display.max_rows', None)\n",
    "pd.set_option('display.max_info_rows', 100)\n",
    "pd.set_option('display.max_columns', None)\n",
    "pd.options.display.float_format = '{:.2f}'.format\n",
    "# pd.set_option('display.width', 1000)"
   ]
  },
  {
   "cell_type": "markdown",
   "metadata": {},
   "source": [
    "# **2. Compreendendo os dados**\n",
    "*   Os dados foram obtidos através de web scraping do site  [Olx](https://www.olx.com.br/autos-e-pecas/carros-vans-e-utilitarios?) e **são de propiedade de olx.com**\n",
    "*   O repositório do projeto de web scraping completo se encontra [aqui](https://github.com/PatrickLeal/olx-veiculos-web-scraping).\n",
    "*   Os dados contém informações sobre os veículos anunciados no site. "
   ]
  },
  {
   "cell_type": "code",
   "execution_count": 2,
   "metadata": {},
   "outputs": [],
   "source": [
    "file_path = glob.glob('../data_lake/silver/*.csv')\n",
    "df_carros = pd.read_csv(file_path[0], parse_dates=['DATA_PUBLICACAO'])           "
   ]
  },
  {
   "cell_type": "code",
   "execution_count": 3,
   "metadata": {},
   "outputs": [
    {
     "data": {
      "text/html": [
       "<div>\n",
       "<style scoped>\n",
       "    .dataframe tbody tr th:only-of-type {\n",
       "        vertical-align: middle;\n",
       "    }\n",
       "\n",
       "    .dataframe tbody tr th {\n",
       "        vertical-align: top;\n",
       "    }\n",
       "\n",
       "    .dataframe thead th {\n",
       "        text-align: right;\n",
       "    }\n",
       "</style>\n",
       "<table border=\"1\" class=\"dataframe\">\n",
       "  <thead>\n",
       "    <tr style=\"text-align: right;\">\n",
       "      <th></th>\n",
       "      <th>TITULO</th>\n",
       "      <th>PRECO_BRL</th>\n",
       "      <th>DESCRICAO</th>\n",
       "      <th>OPCIONAIS</th>\n",
       "      <th>CEP</th>\n",
       "      <th>IMAGEM</th>\n",
       "      <th>PERFIL_CARRO</th>\n",
       "      <th>DATA_PUBLICACAO</th>\n",
       "      <th>TEMPO_PUBLICACAO</th>\n",
       "      <th>COD_PUBLICACAO</th>\n",
       "      <th>TIPO_ANUNCIO</th>\n",
       "      <th>MODELO</th>\n",
       "      <th>PORTAS</th>\n",
       "      <th>CATEGORIA</th>\n",
       "      <th>CAMBIO</th>\n",
       "      <th>COR</th>\n",
       "      <th>POTENCIA_DO_MOTOR</th>\n",
       "      <th>QUILOMETRAGEM</th>\n",
       "      <th>TIPO_DE_DIREÇÃO</th>\n",
       "      <th>COMBUSTIVEL</th>\n",
       "      <th>FINAL_DE_PLACA</th>\n",
       "      <th>MARCA</th>\n",
       "      <th>ANO</th>\n",
       "      <th>TIPO_DE_VEICULO</th>\n",
       "      <th>POSSUI_KIT_GNV</th>\n",
       "    </tr>\n",
       "  </thead>\n",
       "  <tbody>\n",
       "    <tr>\n",
       "      <th>11825</th>\n",
       "      <td>Renault Logan 2023 1.0 12v sce flex zen manual</td>\n",
       "      <td>62490.00</td>\n",
       "      <td>RENAULT LOGAN 1.0 12V SCE FLEX ZEN MANUAL - 20...</td>\n",
       "      <td>['Air bag', 'Som', 'Vidro elétrico']</td>\n",
       "      <td>45023325</td>\n",
       "      <td>https://img.olx.com.br/images/50/5004839246716...</td>\n",
       "      <td>https://ba.olx.com.br/regiao-de-vitoria-da-con...</td>\n",
       "      <td>2024-09-13</td>\n",
       "      <td>10:55</td>\n",
       "      <td>1337419207</td>\n",
       "      <td>profissional</td>\n",
       "      <td>RENAULT LOGAN ZEN FLEX 1.0 12V 4P MEC.</td>\n",
       "      <td>4 portas</td>\n",
       "      <td>Carros, vans e utilitários</td>\n",
       "      <td>Manual</td>\n",
       "      <td>Branco</td>\n",
       "      <td>1.0</td>\n",
       "      <td>48622</td>\n",
       "      <td>Hidráulica</td>\n",
       "      <td>Flex</td>\n",
       "      <td>5.00</td>\n",
       "      <td>RENAULT</td>\n",
       "      <td>2023</td>\n",
       "      <td>Sedã</td>\n",
       "      <td>Não</td>\n",
       "    </tr>\n",
       "    <tr>\n",
       "      <th>13639</th>\n",
       "      <td>TOYOTA HILUX SW4 SRV D4-D 4x4 3.0 TDI Dies. Aut</td>\n",
       "      <td>131900.00</td>\n",
       "      <td>A procura de um Toyota Hilux SW4 SRV D4-D 4x4 ...</td>\n",
       "      <td>['Alarme', 'Air bag', 'Ar condicionado', 'Câme...</td>\n",
       "      <td>14403050</td>\n",
       "      <td>https://img.olx.com.br/images/83/8354846706102...</td>\n",
       "      <td>https://sp.olx.com.br/regiao-de-ribeirao-preto...</td>\n",
       "      <td>2024-09-17</td>\n",
       "      <td>11:31</td>\n",
       "      <td>1331866108</td>\n",
       "      <td>profissional</td>\n",
       "      <td>TOYOTA HILUX SW4 SRV D4-D 4X4 3.0 TDI DIES. AUT</td>\n",
       "      <td>4 portas</td>\n",
       "      <td>Carros, vans e utilitários</td>\n",
       "      <td>Automático</td>\n",
       "      <td>Branco</td>\n",
       "      <td>NaN</td>\n",
       "      <td>206930</td>\n",
       "      <td>Hidráulica</td>\n",
       "      <td>Diesel</td>\n",
       "      <td>1.00</td>\n",
       "      <td>TOYOTA</td>\n",
       "      <td>2012</td>\n",
       "      <td>Pick-up</td>\n",
       "      <td>Não</td>\n",
       "    </tr>\n",
       "    <tr>\n",
       "      <th>5452</th>\n",
       "      <td>Chevrolet Onix 2023 1.0 flex manual</td>\n",
       "      <td>69890.00</td>\n",
       "      <td>CHEVROLET ONIX 1.0 FLEX MANUAL - 2023 / 2023  ...</td>\n",
       "      <td>['Alarme', 'Ar condicionado', 'Trava elétrica']</td>\n",
       "      <td>79006001</td>\n",
       "      <td>https://img.olx.com.br/images/17/1784606727726...</td>\n",
       "      <td>https://ms.olx.com.br/mato-grosso-do-sul/autos...</td>\n",
       "      <td>2024-09-10</td>\n",
       "      <td>11:22</td>\n",
       "      <td>1323885153</td>\n",
       "      <td>profissional</td>\n",
       "      <td>CHEVROLET HATCH 1.0 12V FLEX MEC. 4P</td>\n",
       "      <td>4 portas</td>\n",
       "      <td>Carros, vans e utilitários</td>\n",
       "      <td>Manual</td>\n",
       "      <td>Branco</td>\n",
       "      <td>1.0</td>\n",
       "      <td>63905</td>\n",
       "      <td>Elétrica</td>\n",
       "      <td>Flex</td>\n",
       "      <td>1.00</td>\n",
       "      <td>CHEVROLET</td>\n",
       "      <td>2023</td>\n",
       "      <td>Hatch</td>\n",
       "      <td>Não</td>\n",
       "    </tr>\n",
       "  </tbody>\n",
       "</table>\n",
       "</div>"
      ],
      "text/plain": [
       "                                                TITULO  PRECO_BRL  \\\n",
       "11825   Renault Logan 2023 1.0 12v sce flex zen manual   62490.00   \n",
       "13639  TOYOTA HILUX SW4 SRV D4-D 4x4 3.0 TDI Dies. Aut  131900.00   \n",
       "5452               Chevrolet Onix 2023 1.0 flex manual   69890.00   \n",
       "\n",
       "                                               DESCRICAO  \\\n",
       "11825  RENAULT LOGAN 1.0 12V SCE FLEX ZEN MANUAL - 20...   \n",
       "13639  A procura de um Toyota Hilux SW4 SRV D4-D 4x4 ...   \n",
       "5452   CHEVROLET ONIX 1.0 FLEX MANUAL - 2023 / 2023  ...   \n",
       "\n",
       "                                               OPCIONAIS       CEP  \\\n",
       "11825               ['Air bag', 'Som', 'Vidro elétrico']  45023325   \n",
       "13639  ['Alarme', 'Air bag', 'Ar condicionado', 'Câme...  14403050   \n",
       "5452     ['Alarme', 'Ar condicionado', 'Trava elétrica']  79006001   \n",
       "\n",
       "                                                  IMAGEM  \\\n",
       "11825  https://img.olx.com.br/images/50/5004839246716...   \n",
       "13639  https://img.olx.com.br/images/83/8354846706102...   \n",
       "5452   https://img.olx.com.br/images/17/1784606727726...   \n",
       "\n",
       "                                            PERFIL_CARRO DATA_PUBLICACAO  \\\n",
       "11825  https://ba.olx.com.br/regiao-de-vitoria-da-con...      2024-09-13   \n",
       "13639  https://sp.olx.com.br/regiao-de-ribeirao-preto...      2024-09-17   \n",
       "5452   https://ms.olx.com.br/mato-grosso-do-sul/autos...      2024-09-10   \n",
       "\n",
       "      TEMPO_PUBLICACAO  COD_PUBLICACAO  TIPO_ANUNCIO  \\\n",
       "11825            10:55      1337419207  profissional   \n",
       "13639            11:31      1331866108  profissional   \n",
       "5452             11:22      1323885153  profissional   \n",
       "\n",
       "                                                MODELO    PORTAS  \\\n",
       "11825           RENAULT LOGAN ZEN FLEX 1.0 12V 4P MEC.  4 portas   \n",
       "13639  TOYOTA HILUX SW4 SRV D4-D 4X4 3.0 TDI DIES. AUT  4 portas   \n",
       "5452              CHEVROLET HATCH 1.0 12V FLEX MEC. 4P  4 portas   \n",
       "\n",
       "                        CATEGORIA      CAMBIO     COR POTENCIA_DO_MOTOR  \\\n",
       "11825  Carros, vans e utilitários      Manual  Branco               1.0   \n",
       "13639  Carros, vans e utilitários  Automático  Branco               NaN   \n",
       "5452   Carros, vans e utilitários      Manual  Branco               1.0   \n",
       "\n",
       "       QUILOMETRAGEM TIPO_DE_DIREÇÃO COMBUSTIVEL  FINAL_DE_PLACA      MARCA  \\\n",
       "11825          48622      Hidráulica        Flex            5.00    RENAULT   \n",
       "13639         206930      Hidráulica      Diesel            1.00     TOYOTA   \n",
       "5452           63905        Elétrica        Flex            1.00  CHEVROLET   \n",
       "\n",
       "        ANO TIPO_DE_VEICULO POSSUI_KIT_GNV  \n",
       "11825  2023            Sedã            Não  \n",
       "13639  2012         Pick-up            Não  \n",
       "5452   2023           Hatch            Não  "
      ]
     },
     "execution_count": 3,
     "metadata": {},
     "output_type": "execute_result"
    }
   ],
   "source": [
    "df_carros.sample(3)"
   ]
  },
  {
   "cell_type": "markdown",
   "metadata": {},
   "source": [
    "### **Dicionário de dados**\n",
    "\n",
    "|VARIÁVEL| DESCRIÇÃO | TIPO |\n",
    "|--------|-----------|------|\n",
    "|**TITULO:**| Título do anúncio| string |\n",
    "|**PRECO_BRL:**| Preço em Reais R$| int |\n",
    "|**DESCRICAO:**| Descrição do anúncio deixada pelo anunciante| string |\n",
    "|**OPCIONAIS:**| São *features* dos veículos informadas pelo anunciante| string |\n",
    "|**CEP:**| Localização veículo deixada pelo anunciante | int |\n",
    "|**IMAGEM:**| Link da foto de perfil do anúncio | string |\n",
    "|**PERFIL_CARRO:**| Link para o anúncio original | string |\n",
    "|**DATA_PUBLICACAO:**| Date em que o anúncio foi criado| date |\n",
    "|**TEMPO_PUBLICACAO:**| Hora em que o anúncio foi criado| time |\n",
    "|**COD_PUBLICACAO:**| Código do anúncio| int |\n",
    "|**TIPO_ANUNCIO:**| Tipo de anúncio| string|\n",
    "|**ANO:**| Informa o Ano doveículo| int |\n",
    "|**MARCA:**| Nome da marca do veículo| string |\n",
    "|**CAMBIO:**| Tipo de câmbio do veículo | string |\n",
    "|**POSSUI_KIT_GNV:**| Se o veículo possui kit GNV| bool |\n",
    "|**PORTAS:**| Quantidade de portas que o veículo possui| int |\n",
    "|**POTENCIA_DO_MOTOR:**| Informa a potência do motor | string |\n",
    "|**TIPO_DE_VEICULO:**| Informa o tipo de veículo |string |\n",
    "|**FINAL_DE_PLACA:**| Informa o final da placa| int |\n",
    "|**COR:**| Informa a cor do veículo| string |\n",
    "|**QUILOMETRAGEM:**| Informa a quilometragem do veículo| int |\n",
    "|**COMBUSTIVEL:**| Informa o o tipo de combustível usado pelo veículo| string|\n",
    "|**TIPO_DE_DIREÇÃO:**| Informa o tipo de direção do veículo| string |\n",
    "|**MODELO:**| Informa o modelo do veículo|string |\n",
    "|**CATEGORIA:**| Informa e qual categoria o veículo foi anunciado |string |\n",
    "\n",
    "`PRECO_BRL`  será nossa variável ***target***"
   ]
  },
  {
   "cell_type": "markdown",
   "metadata": {},
   "source": [
    "### **Informações gerais dos dados:**"
   ]
  },
  {
   "cell_type": "code",
   "execution_count": 4,
   "metadata": {},
   "outputs": [
    {
     "name": "stdout",
     "output_type": "stream",
     "text": [
      "<class 'pandas.core.frame.DataFrame'>\n",
      "RangeIndex: 18805 entries, 0 to 18804\n",
      "Data columns (total 25 columns):\n",
      " #   Column             Dtype         \n",
      "---  ------             -----         \n",
      " 0   TITULO             object        \n",
      " 1   PRECO_BRL          float64       \n",
      " 2   DESCRICAO          object        \n",
      " 3   OPCIONAIS          object        \n",
      " 4   CEP                int64         \n",
      " 5   IMAGEM             object        \n",
      " 6   PERFIL_CARRO       object        \n",
      " 7   DATA_PUBLICACAO    datetime64[ns]\n",
      " 8   TEMPO_PUBLICACAO   object        \n",
      " 9   COD_PUBLICACAO     int64         \n",
      " 10  TIPO_ANUNCIO       object        \n",
      " 11  MODELO             object        \n",
      " 12  PORTAS             object        \n",
      " 13  CATEGORIA          object        \n",
      " 14  CAMBIO             object        \n",
      " 15  COR                object        \n",
      " 16  POTENCIA_DO_MOTOR  object        \n",
      " 17  QUILOMETRAGEM      int64         \n",
      " 18  TIPO_DE_DIREÇÃO    object        \n",
      " 19  COMBUSTIVEL        object        \n",
      " 20  FINAL_DE_PLACA     float64       \n",
      " 21  MARCA              object        \n",
      " 22  ANO                object        \n",
      " 23  TIPO_DE_VEICULO    object        \n",
      " 24  POSSUI_KIT_GNV     object        \n",
      "dtypes: datetime64[ns](1), float64(2), int64(3), object(19)\n",
      "memory usage: 3.6+ MB\n"
     ]
    }
   ],
   "source": [
    "df_carros.info()"
   ]
  },
  {
   "cell_type": "code",
   "execution_count": 5,
   "metadata": {},
   "outputs": [
    {
     "name": "stdout",
     "output_type": "stream",
     "text": [
      "O dataset possui 18805 linhas e 25 colunas.\n"
     ]
    }
   ],
   "source": [
    "print(f\"O dataset possui {df_carros.shape[0]} linhas e {df_carros.shape[1]} colunas.\")"
   ]
  },
  {
   "cell_type": "markdown",
   "metadata": {},
   "source": [
    "**Visualisando algumas estatísticas:**"
   ]
  },
  {
   "cell_type": "code",
   "execution_count": 6,
   "metadata": {},
   "outputs": [
    {
     "data": {
      "text/html": [
       "<div>\n",
       "<style scoped>\n",
       "    .dataframe tbody tr th:only-of-type {\n",
       "        vertical-align: middle;\n",
       "    }\n",
       "\n",
       "    .dataframe tbody tr th {\n",
       "        vertical-align: top;\n",
       "    }\n",
       "\n",
       "    .dataframe thead th {\n",
       "        text-align: right;\n",
       "    }\n",
       "</style>\n",
       "<table border=\"1\" class=\"dataframe\">\n",
       "  <thead>\n",
       "    <tr style=\"text-align: right;\">\n",
       "      <th></th>\n",
       "      <th>count</th>\n",
       "      <th>mean</th>\n",
       "      <th>min</th>\n",
       "      <th>25%</th>\n",
       "      <th>50%</th>\n",
       "      <th>75%</th>\n",
       "      <th>max</th>\n",
       "      <th>std</th>\n",
       "    </tr>\n",
       "  </thead>\n",
       "  <tbody>\n",
       "    <tr>\n",
       "      <th>PRECO_BRL</th>\n",
       "      <td>18644.00</td>\n",
       "      <td>88322.99</td>\n",
       "      <td>0.00</td>\n",
       "      <td>52990.00</td>\n",
       "      <td>71990.00</td>\n",
       "      <td>105900.00</td>\n",
       "      <td>4950000.00</td>\n",
       "      <td>75600.07</td>\n",
       "    </tr>\n",
       "    <tr>\n",
       "      <th>CEP</th>\n",
       "      <td>18805.00</td>\n",
       "      <td>39824387.67</td>\n",
       "      <td>1013010.00</td>\n",
       "      <td>12040001.00</td>\n",
       "      <td>31160190.00</td>\n",
       "      <td>68040050.00</td>\n",
       "      <td>99680000.00</td>\n",
       "      <td>29547174.27</td>\n",
       "    </tr>\n",
       "    <tr>\n",
       "      <th>DATA_PUBLICACAO</th>\n",
       "      <td>18805</td>\n",
       "      <td>2024-09-12 12:47:30.901356032</td>\n",
       "      <td>2024-07-12 00:00:00</td>\n",
       "      <td>2024-09-09 00:00:00</td>\n",
       "      <td>2024-09-13 00:00:00</td>\n",
       "      <td>2024-09-17 00:00:00</td>\n",
       "      <td>2024-09-17 00:00:00</td>\n",
       "      <td>NaN</td>\n",
       "    </tr>\n",
       "    <tr>\n",
       "      <th>COD_PUBLICACAO</th>\n",
       "      <td>18805.00</td>\n",
       "      <td>1329885212.11</td>\n",
       "      <td>614262154.00</td>\n",
       "      <td>1329351445.00</td>\n",
       "      <td>1334684764.00</td>\n",
       "      <td>1336423149.00</td>\n",
       "      <td>1338383745.00</td>\n",
       "      <td>18651014.29</td>\n",
       "    </tr>\n",
       "    <tr>\n",
       "      <th>QUILOMETRAGEM</th>\n",
       "      <td>18805.00</td>\n",
       "      <td>72242.72</td>\n",
       "      <td>0.00</td>\n",
       "      <td>43502.00</td>\n",
       "      <td>53219.00</td>\n",
       "      <td>92094.00</td>\n",
       "      <td>9999999.00</td>\n",
       "      <td>107297.16</td>\n",
       "    </tr>\n",
       "    <tr>\n",
       "      <th>FINAL_DE_PLACA</th>\n",
       "      <td>15763.00</td>\n",
       "      <td>4.40</td>\n",
       "      <td>0.00</td>\n",
       "      <td>2.00</td>\n",
       "      <td>4.00</td>\n",
       "      <td>7.00</td>\n",
       "      <td>9.00</td>\n",
       "      <td>2.87</td>\n",
       "    </tr>\n",
       "  </tbody>\n",
       "</table>\n",
       "</div>"
      ],
      "text/plain": [
       "                   count                           mean                  min  \\\n",
       "PRECO_BRL       18644.00                       88322.99                 0.00   \n",
       "CEP             18805.00                    39824387.67           1013010.00   \n",
       "DATA_PUBLICACAO    18805  2024-09-12 12:47:30.901356032  2024-07-12 00:00:00   \n",
       "COD_PUBLICACAO  18805.00                  1329885212.11         614262154.00   \n",
       "QUILOMETRAGEM   18805.00                       72242.72                 0.00   \n",
       "FINAL_DE_PLACA  15763.00                           4.40                 0.00   \n",
       "\n",
       "                                 25%                  50%  \\\n",
       "PRECO_BRL                   52990.00             71990.00   \n",
       "CEP                      12040001.00          31160190.00   \n",
       "DATA_PUBLICACAO  2024-09-09 00:00:00  2024-09-13 00:00:00   \n",
       "COD_PUBLICACAO         1329351445.00        1334684764.00   \n",
       "QUILOMETRAGEM               43502.00             53219.00   \n",
       "FINAL_DE_PLACA                  2.00                 4.00   \n",
       "\n",
       "                                 75%                  max         std  \n",
       "PRECO_BRL                  105900.00           4950000.00    75600.07  \n",
       "CEP                      68040050.00          99680000.00 29547174.27  \n",
       "DATA_PUBLICACAO  2024-09-17 00:00:00  2024-09-17 00:00:00         NaN  \n",
       "COD_PUBLICACAO         1336423149.00        1338383745.00 18651014.29  \n",
       "QUILOMETRAGEM               92094.00           9999999.00   107297.16  \n",
       "FINAL_DE_PLACA                  7.00                 9.00        2.87  "
      ]
     },
     "execution_count": 6,
     "metadata": {},
     "output_type": "execute_result"
    }
   ],
   "source": [
    "df_carros.describe().T"
   ]
  },
  {
   "cell_type": "markdown",
   "metadata": {},
   "source": [
    "**Análise:**\n",
    "-   o dataset possui anúncios com o **preço** de venda **igual a 0**, o que não faz sentido nesse contexto\n",
    "-   alguns dados estão com **tipos errados** e precisam ser tradados\n",
    "\n",
    "**Verificando valores nulos e duplicados:**"
   ]
  },
  {
   "cell_type": "code",
   "execution_count": 7,
   "metadata": {},
   "outputs": [
    {
     "name": "stdout",
     "output_type": "stream",
     "text": [
      "Porcentagem de valores nulos.\n"
     ]
    },
    {
     "data": {
      "text/plain": [
       "TITULO               0.00\n",
       "PRECO_BRL            0.86\n",
       "DESCRICAO            0.00\n",
       "OPCIONAIS            0.00\n",
       "CEP                  0.00\n",
       "IMAGEM               0.00\n",
       "PERFIL_CARRO         0.00\n",
       "DATA_PUBLICACAO      0.00\n",
       "TEMPO_PUBLICACAO     0.00\n",
       "COD_PUBLICACAO       0.00\n",
       "TIPO_ANUNCIO        24.53\n",
       "MODELO               0.00\n",
       "PORTAS               1.75\n",
       "CATEGORIA            0.00\n",
       "CAMBIO               0.44\n",
       "COR                  1.80\n",
       "POTENCIA_DO_MOTOR    4.53\n",
       "QUILOMETRAGEM        0.00\n",
       "TIPO_DE_DIREÇÃO      6.47\n",
       "COMBUSTIVEL          0.46\n",
       "FINAL_DE_PLACA      16.18\n",
       "MARCA                0.00\n",
       "ANO                  0.00\n",
       "TIPO_DE_VEICULO     11.79\n",
       "POSSUI_KIT_GNV       0.00\n",
       "dtype: float64"
      ]
     },
     "execution_count": 7,
     "metadata": {},
     "output_type": "execute_result"
    }
   ],
   "source": [
    "print(\"Porcentagem de valores nulos.\")\n",
    "(df_carros.isnull().sum() / df_carros.shape[0]) * 100"
   ]
  },
  {
   "cell_type": "code",
   "execution_count": 8,
   "metadata": {},
   "outputs": [
    {
     "name": "stdout",
     "output_type": "stream",
     "text": [
      "Quantidade de valores duplicados: 2789\n"
     ]
    }
   ],
   "source": [
    "print(f\"Quantidade de valores duplicados: {df_carros.duplicated().sum()}\")"
   ]
  },
  {
   "cell_type": "markdown",
   "metadata": {},
   "source": [
    "**Ações a serem tomada:**\n",
    "*   remover duplicatas\n",
    "*   remover colunas que tenham mais de 15% de valores nulos\n",
    "*   remover coluna *CATEGORIA* porque ela só possui 1  valor único\n",
    "*   alterar os tipos de dados das colunas:\n",
    "    1. ANO\n",
    "    1. PORTAS\n",
    "    1. POTENCIA_DO_MOTOR\n",
    "    1. OPCIONAIS\n",
    "*   remover valores nulos"
   ]
  },
  {
   "cell_type": "code",
   "execution_count": 9,
   "metadata": {},
   "outputs": [],
   "source": [
    "import os\n",
    "import sys\n",
    "\n",
    "module_path = os.path.abspath(os.getcwd() + '//..')\n",
    "if module_path not in sys.path:\n",
    "    sys.path.append(module_path)\n",
    "\n",
    "from scripts import cleaning_tool\n",
    "\n",
    "df_cleaned = cleaning_tool.limpar_dados_silver(df_carros)"
   ]
  },
  {
   "cell_type": "code",
   "execution_count": 10,
   "metadata": {},
   "outputs": [
    {
     "name": "stdout",
     "output_type": "stream",
     "text": [
      "<class 'pandas.core.frame.DataFrame'>\n",
      "RangeIndex: 12477 entries, 0 to 12476\n",
      "Data columns (total 23 columns):\n",
      " #   Column             Dtype         \n",
      "---  ------             -----         \n",
      " 0   titulo             object        \n",
      " 1   preco_brl          float64       \n",
      " 2   descricao          object        \n",
      " 3   opcionais          object        \n",
      " 4   cep                int64         \n",
      " 5   imagem             object        \n",
      " 6   perfil_carro       object        \n",
      " 7   data_publicacao    datetime64[ns]\n",
      " 8   tempo_publicacao   object        \n",
      " 9   cod_publicacao     int64         \n",
      " 10  modelo             object        \n",
      " 11  portas             int64         \n",
      " 12  cambio             object        \n",
      " 13  cor                object        \n",
      " 14  potencia_do_motor  category      \n",
      " 15  quilometragem      int64         \n",
      " 16  tipo_de_direção    object        \n",
      " 17  combustivel        object        \n",
      " 18  marca              object        \n",
      " 19  ano                int64         \n",
      " 20  tipo_de_veiculo    object        \n",
      " 21  possui_kit_gnv     object        \n",
      " 22  qtd_opcionais      int64         \n",
      "dtypes: category(1), datetime64[ns](1), float64(1), int64(6), object(14)\n",
      "memory usage: 2.1+ MB\n"
     ]
    }
   ],
   "source": [
    "df_cleaned.info()"
   ]
  },
  {
   "cell_type": "code",
   "execution_count": 11,
   "metadata": {},
   "outputs": [
    {
     "name": "stdout",
     "output_type": "stream",
     "text": [
      "Porcentagem de valores nulos.\n"
     ]
    },
    {
     "data": {
      "text/plain": [
       "titulo              0.00\n",
       "preco_brl           0.00\n",
       "descricao           0.00\n",
       "opcionais           0.00\n",
       "cep                 0.00\n",
       "imagem              0.00\n",
       "perfil_carro        0.00\n",
       "data_publicacao     0.00\n",
       "tempo_publicacao    0.00\n",
       "cod_publicacao      0.00\n",
       "modelo              0.00\n",
       "portas              0.00\n",
       "cambio              0.00\n",
       "cor                 0.00\n",
       "potencia_do_motor   0.00\n",
       "quilometragem       0.00\n",
       "tipo_de_direção     0.00\n",
       "combustivel         0.00\n",
       "marca               0.00\n",
       "ano                 0.00\n",
       "tipo_de_veiculo     0.00\n",
       "possui_kit_gnv      0.00\n",
       "qtd_opcionais       0.00\n",
       "dtype: float64"
      ]
     },
     "execution_count": 11,
     "metadata": {},
     "output_type": "execute_result"
    }
   ],
   "source": [
    "# df_carros.drop_duplicates(inplace=True)\n",
    "print(\"Porcentagem de valores nulos.\")\n",
    "(df_cleaned.isnull().sum() / df_carros.shape[0]) * 100"
   ]
  },
  {
   "cell_type": "markdown",
   "metadata": {},
   "source": [
    "Agora não há mais dados nulos e seus tipos estão corretos."
   ]
  },
  {
   "cell_type": "markdown",
   "metadata": {},
   "source": [
    "# **3. Dividir os dados em treino e teste**\n",
    "*   A **análise exploratória de dados** será feita nos dados de treino na intenção de evitar *data leakage*\n",
    "*   O objetivo principal da divisão é verificar o quão bem o modelo pode fazer previsões em **dados que ele nunca viu antes**. \n",
    "*   Se o modelo for avaliado apenas nos **dados de treino**, o resultado pode ser tendencioso, pois o modelo já viu aqueles dados."
   ]
  }
 ],
 "metadata": {
  "kernelspec": {
   "display_name": "carros_analise",
   "language": "python",
   "name": "python3"
  },
  "language_info": {
   "codemirror_mode": {
    "name": "ipython",
    "version": 3
   },
   "file_extension": ".py",
   "mimetype": "text/x-python",
   "name": "python",
   "nbconvert_exporter": "python",
   "pygments_lexer": "ipython3",
   "version": "3.12.5"
  }
 },
 "nbformat": 4,
 "nbformat_minor": 2
}
